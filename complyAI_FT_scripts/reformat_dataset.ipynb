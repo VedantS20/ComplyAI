{
 "cells": [
  {
   "cell_type": "code",
   "execution_count": 13,
   "metadata": {},
   "outputs": [],
   "source": [
    "import pandas as pd\n",
    "\n",
    "df = pd.read_json('./outputMistral.jsonl',lines=True)\n",
    "\n",
    "df_train = df.sample(frac=0.995, random_state=200)\n",
    "\n",
    "df_eval = df.drop(df_train.index)"
   ]
  },
  {
   "cell_type": "code",
   "execution_count": 14,
   "metadata": {},
   "outputs": [],
   "source": [
    "df_train.to_json('./training_dataset/df_train.jsonl', orient='records', lines=True)\n",
    "\n",
    "df_eval.to_json('./training_dataset/df_eval.jsonl', orient='records', lines=True)"
   ]
  },
  {
   "cell_type": "code",
   "execution_count": 12,
   "metadata": {},
   "outputs": [],
   "source": [
    "import json\n",
    "\n",
    "def transform_json(input_json):\n",
    "    transformed_json = {\n",
    "        \"messages\": [\n",
    "            {\n",
    "                \"role\": \"user\",\n",
    "                \"content\": input_json[\"instruction\"]\n",
    "            },\n",
    "            {\n",
    "                \"role\": \"assistant\",\n",
    "                \"content\": input_json[\"cot_answer\"]\n",
    "            }\n",
    "        ]\n",
    "    }\n",
    "    return transformed_json\n",
    "\n",
    "def process_jsonl(input_file, output_file):\n",
    "    with open(input_file, 'r') as infile, open(output_file, 'w') as outfile:\n",
    "        for line in infile:\n",
    "            input_json = json.loads(line)\n",
    "            transformed_json = transform_json(input_json)\n",
    "            json.dump(transformed_json, outfile)\n",
    "            outfile.write('\\n')\n",
    "\n",
    "input_file = './output.jsonl'\n",
    "output_file = './outputMistral.jsonl'\n",
    "\n",
    "process_jsonl(input_file, output_file)\n"
   ]
  },
  {
   "cell_type": "code",
   "execution_count": 16,
   "metadata": {},
   "outputs": [
    {
     "name": "stdout",
     "output_type": "stream",
     "text": [
      "/Users/vedantsasane/.zshenv:.:1: no such file or directory: /Users/vedantsasane/.cargo/env\n",
      "--2024-07-30 23:32:14--  https://raw.githubusercontent.com/mistralai/mistral-finetune/main/utils/reformat_data.py\n",
      "Resolving raw.githubusercontent.com (raw.githubusercontent.com)... 185.199.109.133, 185.199.111.133, 185.199.108.133, ...\n",
      "Connecting to raw.githubusercontent.com (raw.githubusercontent.com)|185.199.109.133|:443... connected.\n",
      "HTTP request sent, awaiting response... 200 OK\n",
      "Length: 3381 (3.3K) [text/plain]\n",
      "Saving to: ‘reformat_data.py’\n",
      "\n",
      "reformat_data.py    100%[===================>]   3.30K  --.-KB/s    in 0.03s   \n",
      "\n",
      "2024-07-30 23:32:16 (98.7 KB/s) - ‘reformat_data.py’ saved [3381/3381]\n",
      "\n"
     ]
    }
   ],
   "source": [
    "!wget https://raw.githubusercontent.com/mistralai/mistral-finetune/main/utils/reformat_data.py"
   ]
  },
  {
   "cell_type": "code",
   "execution_count": 17,
   "metadata": {},
   "outputs": [
    {
     "name": "stdout",
     "output_type": "stream",
     "text": [
      "/Users/vedantsasane/.zshenv:.:1: no such file or directory: /Users/vedantsasane/.cargo/env\n"
     ]
    }
   ],
   "source": [
    "!python reformat_data.py './training_dataset/df_train.jsonl'"
   ]
  },
  {
   "cell_type": "code",
   "execution_count": 18,
   "metadata": {},
   "outputs": [
    {
     "name": "stdout",
     "output_type": "stream",
     "text": [
      "/Users/vedantsasane/.zshenv:.:1: no such file or directory: /Users/vedantsasane/.cargo/env\n"
     ]
    }
   ],
   "source": [
    "!python reformat_data.py './training_dataset/df_eval.jsonl'"
   ]
  },
  {
   "cell_type": "code",
   "execution_count": 19,
   "metadata": {},
   "outputs": [
    {
     "data": {
      "text/plain": [
       "[{'role': 'user',\n",
       "  'content': '<DOCUMENT>No. Stds/SP/(Contaminants)/Notification -1/FSSAI -2018, dated 7th \\nAugust,  2020. </DOCUMENT>\\n<DOCUMENT>(II) Fats derived from animal  \\ntissues  \\n(III) Milk  0.01  \\n24. Danofloxacin  Cattle  \\nMuscle  0.2 \\nLiver  0.4 \\nKidney  0.4 \\nFat 0.1 \\nPig \\nMuscle  0.1 \\nLiver  0.05  \\nKidney  0.2 \\nFat 0.1 \\nChicken  \\nMuscle  0.2 \\nLiver  0.4 \\nKidney  0.4 \\nFat 0.1 \\n25. Enrofloxacin  (I) All edible  animal  tissues  0.01  Version  –VI (27.01.2022 )  S.</DOCUMENT>\\n<DOCUMENT>Name of the antibiotics and  \\nveterinary  drugs  Food  Tolerance  limit  \\n(mg/Kg)  \\n(1) (2) (3) (4) \\n1. Ampicillin  (I) All edible  animal  tissues  \\n(II) Fats  derived  from  \\nanimal  tissues  \\n(III) Milk  0.01  \\n2. Cloxacillin  (I) All edible  animal  tissues  \\n(II) Fats  derived  from  \\nanimal  tissues  \\n(III) Milk  0.01  \\n3. Colistin  Cattle  \\nFat 0.15  \\nMuscle  0.15  \\nKidney  0.2 \\nLiver  0.15  \\nMilk  0.05  \\nPig \\nMuscle  0.15  \\nFat 0.15  \\nLiver  0.15  \\nKidney  0.2 \\nSheep  \\nLiver  0.15  \\nMilk  0.05  \\nMuscle  0.15  \\nKidney  0.2 \\nFat 0.15  \\nGoat  \\nKidney  0.2 Version  –VI (27.01.2022 )  S. No.</DOCUMENT>\\n<DOCUMENT>Inserted  by notification no. F.</DOCUMENT>\\n2. Which antibiotic has a tolerance limit of 0.15 mg/kg in cattle muscle?'},\n",
       " {'role': 'assistant',\n",
       "  'content': \"To answer the question, we need to identify which antibiotic has a tolerance limit of 0.15 mg/kg in cattle muscle. Let's go through the context step-by-step:\\n\\n1. **Identify the relevant section of the context:**\\n   We need to look for the antibiotics listed and their corresponding tolerance limits in cattle muscle.\\n\\n2. **Extract information about tolerance limits in cattle muscle:**\\n   ##begin_quote##\\n   3. Colistin\\n   Cattle\\n   Fat 0.15\\n   Muscle 0.15\\n   Kidney 0.2\\n   Liver 0.15\\n   Milk 0.05\\n   ##end_quote##\\n\\n3. **Match the tolerance limit to the question:**\\n   From the quoted section, we see that Colistin has a tolerance limit of 0.15 mg/kg in cattle muscle.\\n\\n<ANSWER>: Colistin\"}]"
      ]
     },
     "execution_count": 19,
     "metadata": {},
     "output_type": "execute_result"
    }
   ],
   "source": [
    "df_train.iloc[3674]['messages']"
   ]
  },
  {
   "cell_type": "code",
   "execution_count": 21,
   "metadata": {},
   "outputs": [],
   "source": [
    "import os\n",
    "from mistralai.client import MistralClient\n",
    "\n",
    "api_key = os.environ.get(\"MISTRAL_API_KEY\")\n",
    "client = MistralClient(api_key=api_key)\n",
    "\n",
    "with open(\"./training_dataset/complyai_train.jsonl\", \"rb\") as f:\n",
    "    complyai_train = client.files.create(file=(\"complyai_train.jsonl\", f))\n",
    "with open(\"./training_dataset/complyai_eval.jsonl\", \"rb\") as f:\n",
    "    complyai_eval = client.files.create(file=(\"complyai_eval.jsonl\", f))"
   ]
  },
  {
   "cell_type": "code",
   "execution_count": 22,
   "metadata": {},
   "outputs": [],
   "source": [
    "import json\n",
    "def pprint(obj):\n",
    "    print(json.dumps(obj.dict(), indent=4))"
   ]
  },
  {
   "cell_type": "code",
   "execution_count": 23,
   "metadata": {},
   "outputs": [
    {
     "name": "stdout",
     "output_type": "stream",
     "text": [
      "{\n",
      "    \"id\": \"2fa3cae9-5754-41fb-a681-e3202bcb5b13\",\n",
      "    \"object\": \"file\",\n",
      "    \"bytes\": 21637401,\n",
      "    \"created_at\": 1722365123,\n",
      "    \"filename\": \"complyai_train.jsonl\",\n",
      "    \"purpose\": \"fine-tune\"\n",
      "}\n"
     ]
    }
   ],
   "source": [
    "pprint(complyai_train)"
   ]
  },
  {
   "cell_type": "code",
   "execution_count": 24,
   "metadata": {},
   "outputs": [
    {
     "name": "stdout",
     "output_type": "stream",
     "text": [
      "{\n",
      "    \"id\": \"4793c647-c842-443a-b21c-52859199d117\",\n",
      "    \"object\": \"file\",\n",
      "    \"bytes\": 100932,\n",
      "    \"created_at\": 1722365124,\n",
      "    \"filename\": \"complyai_eval.jsonl\",\n",
      "    \"purpose\": \"fine-tune\"\n",
      "}\n"
     ]
    }
   ],
   "source": [
    "pprint(complyai_eval)"
   ]
  },
  {
   "cell_type": "code",
   "execution_count": 29,
   "metadata": {},
   "outputs": [
    {
     "name": "stdout",
     "output_type": "stream",
     "text": [
      "2b9312973a66d517666e583df1bfcd50898fd8ca\n"
     ]
    }
   ],
   "source": [
    "from mistralai.models.jobs import WandbIntegrationIn,TrainingParameters\n",
    "\n",
    "wandb_api_key = \"2b9312973a66d517666e583df1bfcd50898fd8ca\"\n",
    "print(wandb_api_key)\n",
    "created_jobs = client.jobs.create(\n",
    "    model=\"open-mistral-7b\",\n",
    "    training_files=[complyai_train.id],\n",
    "    validation_files=[complyai_eval.id],\n",
    "    hyperparameters=TrainingParameters(\n",
    "        training_steps=100,\n",
    "        learning_rate=0.0001,\n",
    "    ),\n",
    "    integrations=[\n",
    "        WandbIntegrationIn(\n",
    "            project=\"complyai_ft\",\n",
    "            run_name=\"ft_test\",\n",
    "            api_key=wandb_api_key,\n",
    "        ).dict()\n",
    "    ],\n",
    ")"
   ]
  },
  {
   "cell_type": "code",
   "execution_count": 33,
   "metadata": {},
   "outputs": [
    {
     "name": "stdout",
     "output_type": "stream",
     "text": [
      "id='5b3db1fc-a667-43e6-9331-0e1e6ccb67a3' hyperparameters=TrainingParameters(training_steps=100, learning_rate=0.0001) fine_tuned_model=None model='open-mistral-7b' status='QUEUED' job_type='FT' created_at=1722366451 modified_at=1722366451 training_files=['2fa3cae9-5754-41fb-a681-e3202bcb5b13'] validation_files=['4793c647-c842-443a-b21c-52859199d117'] object='job' integrations=[WandbIntegration(type='wandb', project='complyai_ft', name=None, run_name='ft_test')]\n"
     ]
    }
   ],
   "source": [
    "print(created_jobs)"
   ]
  },
  {
   "cell_type": "code",
   "execution_count": 34,
   "metadata": {},
   "outputs": [
    {
     "name": "stdout",
     "output_type": "stream",
     "text": [
      "{\n",
      "    \"id\": \"5b3db1fc-a667-43e6-9331-0e1e6ccb67a3\",\n",
      "    \"hyperparameters\": {\n",
      "        \"training_steps\": 100,\n",
      "        \"learning_rate\": 0.0001\n",
      "    },\n",
      "    \"fine_tuned_model\": \"ft:open-mistral-7b:fe3c5ae7:20240730:5b3db1fc\",\n",
      "    \"model\": \"open-mistral-7b\",\n",
      "    \"status\": \"SUCCESS\",\n",
      "    \"job_type\": \"FT\",\n",
      "    \"created_at\": 1722366451,\n",
      "    \"modified_at\": 1722367082,\n",
      "    \"training_files\": [\n",
      "        \"2fa3cae9-5754-41fb-a681-e3202bcb5b13\"\n",
      "    ],\n",
      "    \"validation_files\": [\n",
      "        \"4793c647-c842-443a-b21c-52859199d117\"\n",
      "    ],\n",
      "    \"object\": \"job\",\n",
      "    \"integrations\": [\n",
      "        {\n",
      "            \"type\": \"wandb\",\n",
      "            \"project\": \"complyai_ft\",\n",
      "            \"name\": null,\n",
      "            \"run_name\": \"ft_test\"\n",
      "        }\n",
      "    ],\n",
      "    \"events\": [\n",
      "        {\n",
      "            \"name\": \"status-updated\",\n",
      "            \"data\": {\n",
      "                \"status\": \"SUCCESS\"\n",
      "            },\n",
      "            \"created_at\": 1722367082\n",
      "        },\n",
      "        {\n",
      "            \"name\": \"status-updated\",\n",
      "            \"data\": {\n",
      "                \"status\": \"RUNNING\"\n",
      "            },\n",
      "            \"created_at\": 1722366453\n",
      "        },\n",
      "        {\n",
      "            \"name\": \"status-updated\",\n",
      "            \"data\": {\n",
      "                \"status\": \"QUEUED\"\n",
      "            },\n",
      "            \"created_at\": 1722366451\n",
      "        },\n",
      "        {\n",
      "            \"name\": \"status-updated\",\n",
      "            \"data\": {\n",
      "                \"status\": \"VALIDATED\"\n",
      "            },\n",
      "            \"created_at\": 1722366451\n",
      "        },\n",
      "        {\n",
      "            \"name\": \"status-updated\",\n",
      "            \"data\": {\n",
      "                \"status\": \"RUNNING\"\n",
      "            },\n",
      "            \"created_at\": 1722366451\n",
      "        },\n",
      "        {\n",
      "            \"name\": \"status-updated\",\n",
      "            \"data\": {\n",
      "                \"status\": \"QUEUED\"\n",
      "            },\n",
      "            \"created_at\": 1722366451\n",
      "        }\n",
      "    ],\n",
      "    \"checkpoints\": [\n",
      "        {\n",
      "            \"metrics\": {\n",
      "                \"train_loss\": 0.362151,\n",
      "                \"valid_loss\": 0.400011,\n",
      "                \"valid_mean_token_accuracy\": 1.319518\n",
      "            },\n",
      "            \"step_number\": 100,\n",
      "            \"created_at\": 1722367040\n",
      "        },\n",
      "        {\n",
      "            \"metrics\": {\n",
      "                \"train_loss\": 0.350322,\n",
      "                \"valid_loss\": 0.404905,\n",
      "                \"valid_mean_token_accuracy\": 1.324002\n",
      "            },\n",
      "            \"step_number\": 80,\n",
      "            \"created_at\": 1722366931\n",
      "        },\n",
      "        {\n",
      "            \"metrics\": {\n",
      "                \"train_loss\": 0.370835,\n",
      "                \"valid_loss\": 0.414617,\n",
      "                \"valid_mean_token_accuracy\": 1.332945\n",
      "            },\n",
      "            \"step_number\": 60,\n",
      "            \"created_at\": 1722366816\n",
      "        },\n",
      "        {\n",
      "            \"metrics\": {\n",
      "                \"train_loss\": 0.455485,\n",
      "                \"valid_loss\": 0.432278,\n",
      "                \"valid_mean_token_accuracy\": 1.349363\n",
      "            },\n",
      "            \"step_number\": 40,\n",
      "            \"created_at\": 1722366703\n",
      "        },\n",
      "        {\n",
      "            \"metrics\": {\n",
      "                \"train_loss\": 0.598973,\n",
      "                \"valid_loss\": 0.558553,\n",
      "                \"valid_mean_token_accuracy\": 1.472791\n",
      "            },\n",
      "            \"step_number\": 20,\n",
      "            \"created_at\": 1722366593\n",
      "        }\n",
      "    ],\n",
      "    \"estimated_start_time\": null\n",
      "}\n"
     ]
    }
   ],
   "source": [
    "retrieved_jobs = client.jobs.retrieve(created_jobs.id)\n",
    "pprint(retrieved_jobs)"
   ]
  },
  {
   "cell_type": "code",
   "execution_count": 35,
   "metadata": {},
   "outputs": [],
   "source": [
    "from mistralai.models.chat_completion import ChatMessage\n",
    "\n",
    "chat_response = client.chat(\n",
    "    model=retrieved_jobs.fine_tuned_model,\n",
    "    messages=[ChatMessage(role='user', content='How can i get a License for a food business')]\n",
    ")"
   ]
  },
  {
   "cell_type": "code",
   "execution_count": 36,
   "metadata": {},
   "outputs": [
    {
     "name": "stdout",
     "output_type": "stream",
     "text": [
      "{\n",
      "    \"id\": \"bd79c35e37e3430190eb091805659791\",\n",
      "    \"object\": \"chat.completion\",\n",
      "    \"created\": 1722367621,\n",
      "    \"model\": \"ft:open-mistral-7b:fe3c5ae7:20240730:5b3db1fc\",\n",
      "    \"choices\": [\n",
      "        {\n",
      "            \"index\": 0,\n",
      "            \"message\": {\n",
      "                \"role\": \"assistant\",\n",
      "                \"content\": \"To get a license for a food business, follow these steps:\\n\\n1. **Identify the Requirements**: Understand what is necessary for a food business license in your area. This may include specific types of licenses, inspections, permits, and other requirements.\\n\\n2. **Choose the Right License**: Determine which type of license is appropriate for your food business. This could be a food service license, food handling license, or another type of license.\\n\\n3. **Locate the Regulatory Body**: Identify the regulatory body responsible for issuing food business licenses in your area. This is typically a local health department or food safety authority.\\n\\n4. **Gather Necessary Documents**: Prepare the documents required for the application process. This may include proof of ownership, tax identification numbers, and other business documents.\\n\\n5. **Complete the Application Form**: Fill out the application form accurately and completely. Make sure to include all necessary information, such as your business name, address, and type of food business.\\n\\n6. **Pay the Application Fee**: Pay the required fee for the application. The fee amount will vary depending on your location and the type of license.\\n\\n7. **Submit the Application**: Submit the completed application form and all required documents to the regulatory body.\\n\\n8. **Undergo Inspection**: The regulatory body will likely conduct an inspection of your food business to ensure it meets health and safety standards.\\n\\n9. **Receive Your License**: Once the inspection is complete and all requirements are met, you will receive your food business license.\",\n",
      "                \"name\": null,\n",
      "                \"tool_calls\": null,\n",
      "                \"tool_call_id\": null\n",
      "            },\n",
      "            \"finish_reason\": \"stop\"\n",
      "        }\n",
      "    ],\n",
      "    \"usage\": {\n",
      "        \"prompt_tokens\": 13,\n",
      "        \"total_tokens\": 353,\n",
      "        \"completion_tokens\": 340\n",
      "    }\n",
      "}\n"
     ]
    }
   ],
   "source": [
    "pprint(chat_response)"
   ]
  }
 ],
 "metadata": {
  "kernelspec": {
   "display_name": "InfoEdge_HT",
   "language": "python",
   "name": "python3"
  },
  "language_info": {
   "codemirror_mode": {
    "name": "ipython",
    "version": 3
   },
   "file_extension": ".py",
   "mimetype": "text/x-python",
   "name": "python",
   "nbconvert_exporter": "python",
   "pygments_lexer": "ipython3",
   "version": "3.9.6"
  }
 },
 "nbformat": 4,
 "nbformat_minor": 2
}
